{
 "cells": [
  {
   "cell_type": "code",
   "execution_count": null,
   "metadata": {},
   "outputs": [],
   "source": [
    "nb_id = df['CarId'].nunique()\n",
    "df1 = df\n",
    "df1['outlier'] = y_pred.tolist()\n",
    "\n",
    "X_all = pd.DataFrame(df1, columns=['CarId', 'Speed diff'])\n",
    "X_all = X_all.to_numpy()\n",
    "y_all = df1['Class'].to_numpy()\n",
    "\n",
    "XS=np.size(X_all[:,1])\n",
    "Y1=(y_all[:] == 1).sum()\n",
    "Y2=(y_all[:] == 0).sum()\n",
    "\n",
    "print(\"décompte des données :\", XS)\n",
    "print(\"donnée anormale :\", Y1)\n",
    "print(\"donnée normale :\", Y2)\n",
    "\n",
    "X_all, y_all = shuffle(X_all, y_all)  # Shuffle data.\n",
    "iterator = ArrayStreamer(shuffle=False)  # Create streamer to simulate streaming data.\n",
    "\n",
    "detector = [MCD(),MCD()]\n",
    "list_models = [\n",
    "    ReferenceWindowModel(model_cls=LSCP, window_size=200, sliding_size=40, initial_window_X=X_all[:1000],detector_list=detector,),\n",
    "    ReferenceWindowModel(model_cls=LSCP, window_size=1000, sliding_size=40, initial_window_X=X_all[:1000],detector_list=detector,),\n",
    "    ReferenceWindowModel(model_cls=CBLOF, window_size=200, sliding_size=40, initial_window_X=X_all[:1000],n_clusters=nb_id,),\n",
    "    ReferenceWindowModel(model_cls=CBLOF, window_size=1000, sliding_size=40, initial_window_X=X_all[:1000],n_clusters=nb_id,),\n",
    "    ReferenceWindowModel(model_cls=IForest, window_size=200, sliding_size=40, initial_window_X=X_all[:1000],),\n",
    "    ReferenceWindowModel(model_cls=IForest, window_size=1000, sliding_size=40, initial_window_X=X_all[:1000],)\n",
    "]\n",
    "\n",
    "ensembler = MedianScoreEnsembler()  # Ensembler module.\n",
    "for idx, model in enumerate(list_models):\n",
    "    auroc = AUROCMetric()\n",
    "    aupr = AUPRMetric()\n",
    "    for X, y in tqdm(iterator.iter(X_all, y_all)):  # Iterate over examples.\n",
    "        model_scores = np.empty(1, dtype=np.float)\n",
    "        model.fit_partial(X)\n",
    "        model_scores[i] = model.score_partial(X)\n",
    "        score = ensembler.fit_transform_partial(model_scores)\n",
    "\n",
    "        auroc.update(y, score)  # update AUROC metric.\n",
    "        aupr.update(y, score)  # update AUPR metric.\n",
    "    \n",
    "    if idx == 0 :\n",
    "        print(\"LSCP, Window_size=200\")\n",
    "    if idx == 1 :\n",
    "        print(\"LSCP, Window_size=1000\")\n",
    "    if idx == 2 :\n",
    "        print(\"CBLOF, Window_size=200\")\n",
    "    if idx == 3 :\n",
    "        print(\"CBLOF, Window_size=1000\")\n",
    "    if idx == 4 :\n",
    "        print(\"IForest, Window_size=200\")\n",
    "    if idx == 5 :\n",
    "        print(\"IForest, Window_size=1000\")\n",
    "    print(\"AUROC: \", auroc.get())\n",
    "    print(\"AUPR: \", aupr.get())"
   ]
  }
 ],
 "metadata": {
  "kernelspec": {
   "display_name": "Python 3",
   "language": "python",
   "name": "python3"
  },
  "language_info": {
   "codemirror_mode": {
    "name": "ipython",
    "version": 3
   },
   "file_extension": ".py",
   "mimetype": "text/x-python",
   "name": "python",
   "nbconvert_exporter": "python",
   "pygments_lexer": "ipython3",
   "version": "3.8.3"
  }
 },
 "nbformat": 4,
 "nbformat_minor": 4
}
